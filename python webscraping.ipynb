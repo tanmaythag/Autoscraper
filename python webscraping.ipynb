{
 "cells": [
  {
   "cell_type": "code",
   "execution_count": 5,
   "metadata": {},
   "outputs": [],
   "source": [
    "from autoscraper import AutoScraper"
   ]
  },
  {
   "cell_type": "code",
   "execution_count": 6,
   "metadata": {},
   "outputs": [],
   "source": [
    "url =\"https://www.amazon.in/s?k=apple+mobile+phone\"\n",
    "wanted_list = [\"₹92,900\",\"Apple iPhone 11 Pro Max (256GB) - Midnight Green\",\"803\"]"
   ]
  },
  {
   "cell_type": "code",
   "execution_count": 7,
   "metadata": {},
   "outputs": [],
   "source": [
    "scraper = AutoScraper()\n",
    "result = scraper.build(url,wanted_list)"
   ]
  },
  {
   "cell_type": "code",
   "execution_count": 8,
   "metadata": {},
   "outputs": [
    {
     "name": "stdout",
     "output_type": "stream",
     "text": [
      "['₹8,499', '₹10,999', '₹1,39,900', '₹23,999', '₹27,000', '₹1,45,900', '₹1,49,900', '₹3,499', '₹3,999', '₹59,900', '₹14,999', '₹19,999', '₹63,999', '₹74,900', '₹12,999', '₹1,35,900', '₹92,900', '₹1,23,900', '₹58,999', '₹69,900', '₹1,25,900', '₹1,29,900', '₹6,749', 'Redmi 9 (Sporty Orange, 4GB RAM, 64GB Storage) | 5000 mAh| 2.3GHz Mediatek Helio G35 Octa core Processor', 'New Apple iPhone 12 Pro Max (256GB) - Pacific Blue', 'Mi 10i 5G (Midnight Black, 8GB RAM, 128GB Storage) - 108MP Quad Camera | Snapdragon 750G Processor | Upto 6 Months No Cost EMI', 'New Apple iPhone 12 Pro (512GB) - Silver', 'Nillkin Case for Apple iPhone 12 (6.1\" Inch) / Apple iPhone 12 Pro Camo Case TPU + PC Camoflauge 6 Layered Precise Stitching Non Slip Lifted Bezel Camera Protect', 'New Apple iPhone 11 (128GB) - Green', 'Samsung Galaxy M31 (Space Black, 6GB RAM, 128GB Storage)', 'Kechaoda K-66 Plus Black Mobile Phone with Dual Sim', 'New Apple iPhone 12 Mini (128GB) - White', 'Samsung Galaxy M12 (Blue,4GB RAM, 64GB Storage) 6000 mAh with 8nm Processor | True 48 MP Quad Camera | 90Hz Refresh Rate', 'New Apple iPhone 12 Pro Max (256GB) - Gold', 'Apple iPhone 11 Pro Max (256GB) - Midnight Green', 'New Apple iPhone 12 Mini (64GB) - Blue', 'New Apple iPhone 12 Pro (256GB) - Pacific Blue', 'New Apple iPhone 11 (128GB) - White', 'Nokia C3 Android 10 Smartphone with 2GB RAM 16GB Storage, All-Day Battery and Fingerprint Sensor – Nordic Blue', 'Mi 10i 5G (Midnight Black, 8GB RAM, 128GB Storage) - 108MP Quad Camera | Snapdragon 750G Processor | Upto 6 Months No Cost...', 'Nillkin Case for Apple iPhone 12 (6.1', '34,943', '559', '13,955', '230', '25,687', '178,356', '18', '3,291', '10,410', '803', '460']\n"
     ]
    }
   ],
   "source": [
    "print(result)"
   ]
  },
  {
   "cell_type": "code",
   "execution_count": 9,
   "metadata": {},
   "outputs": [
    {
     "data": {
      "text/plain": [
       "{'rule_aucm': ['₹23,999',\n",
       "  '₹27,000',\n",
       "  '₹84,900',\n",
       "  '₹1,45,900',\n",
       "  '₹1,49,900',\n",
       "  '₹92,900',\n",
       "  '₹1,23,900',\n",
       "  '₹6,749',\n",
       "  '₹8,499',\n",
       "  '₹14,999',\n",
       "  '₹19,999',\n",
       "  '₹8,499',\n",
       "  '₹10,999',\n",
       "  '₹59,900',\n",
       "  '₹59,900',\n",
       "  '₹1,25,900',\n",
       "  '₹1,29,900',\n",
       "  '₹1,39,900',\n",
       "  '₹63,999',\n",
       "  '₹74,900',\n",
       "  '₹58,999',\n",
       "  '₹69,900',\n",
       "  '₹75,900',\n",
       "  '₹84,900',\n",
       "  '₹989',\n",
       "  '₹1,499'],\n",
       " 'rule_27xd': ['₹23,999',\n",
       "  '₹27,000',\n",
       "  '₹84,900',\n",
       "  '₹1,45,900',\n",
       "  '₹1,49,900',\n",
       "  '₹92,900',\n",
       "  '₹1,23,900',\n",
       "  '₹6,749',\n",
       "  '₹8,499',\n",
       "  '₹14,999',\n",
       "  '₹19,999',\n",
       "  '₹8,499',\n",
       "  '₹10,999',\n",
       "  '₹59,900',\n",
       "  '₹59,900',\n",
       "  '₹1,25,900',\n",
       "  '₹1,29,900',\n",
       "  '₹1,39,900',\n",
       "  '₹63,999',\n",
       "  '₹74,900',\n",
       "  '₹58,999',\n",
       "  '₹69,900',\n",
       "  '₹75,900',\n",
       "  '₹84,900',\n",
       "  '₹989',\n",
       "  '₹1,499'],\n",
       " 'rule_ysca': ['Mi 10i 5G (Midnight Black, 8GB RAM, 128GB Storage) - 108MP Quad Camera | Snapdragon 750G Processor | Upto 6 Months No Cost EMI',\n",
       "  'New Apple iPhone 12 Mini (256GB) - Blue',\n",
       "  'New Apple iPhone 12 Pro (512GB) - Silver',\n",
       "  'Apple iPhone 11 Pro Max (256GB) - Midnight Green',\n",
       "  'Nokia C3 Android 10 Smartphone with 2GB RAM 16GB Storage, All-Day Battery and Fingerprint Sensor – Nordic Blue',\n",
       "  'Samsung Galaxy M31 (Space Black, 6GB RAM, 128GB Storage)',\n",
       "  'Redmi 9 (Sporty Orange, 4GB RAM, 64GB Storage) | 5000 mAh| 2.3GHz Mediatek Helio G35 Octa core Processor',\n",
       "  'New Apple iPhone 11 (128GB) - Green',\n",
       "  'New Apple iPhone 11 (128GB) - White',\n",
       "  'New Apple iPhone 12 Pro (256GB) - Pacific Blue',\n",
       "  'New Apple iPhone 12 Pro Max (256GB) - Pacific Blue',\n",
       "  'New Apple iPhone 12 Mini (128GB) - White',\n",
       "  'New Apple iPhone 12 Mini (64GB) - Blue',\n",
       "  'Kechaoda K-66 Plus Black Mobile Phone with Dual Sim',\n",
       "  'New Apple iPhone 12 (128GB) - Black',\n",
       "  'KECHAODA K33 Slim Card Size Dual Sim Phone with External Memory Slot 1.44 inch Display(Gold)'],\n",
       " 'rule_pz05': ['Mi 10i 5G (Midnight Black, 8GB RAM, 128GB Storage) - 108MP Quad Camera | Snapdragon 750G Processor | Upto 6 Months No Cost...',\n",
       "  'New Apple iPhone 12 Mini (256GB) - Blue',\n",
       "  'New Apple iPhone 12 Pro (512GB) - Silver',\n",
       "  'Apple iPhone 11 Pro Max (256GB) - Midnight Green',\n",
       "  'Nokia C3 Android 10 Smartphone with 2GB RAM 16GB Storage, All-Day Battery and Fingerprint Sensor – Nordic Blue',\n",
       "  'Samsung Galaxy M31 (Space Black, 6GB RAM, 128GB Storage)',\n",
       "  'Redmi 9 (Sporty Orange, 4GB RAM, 64GB Storage) | 5000 mAh| 2.3GHz Mediatek Helio G35 Octa core Processor',\n",
       "  'New Apple iPhone 11 (128GB) - Green',\n",
       "  'New Apple iPhone 11 (128GB) - White',\n",
       "  'New Apple iPhone 12 Pro (256GB) - Pacific Blue',\n",
       "  'New Apple iPhone 12 Pro Max (256GB) - Pacific Blue',\n",
       "  'New Apple iPhone 12 Mini (128GB) - White',\n",
       "  'New Apple iPhone 12 Mini (64GB) - Blue',\n",
       "  'Kechaoda K-66 Plus Black Mobile Phone with Dual Sim',\n",
       "  'New Apple iPhone 12 (128GB) - Black',\n",
       "  'KECHAODA K33 Slim Card Size Dual Sim Phone with External Memory Slot 1.44 inch Display(Gold)'],\n",
       " 'rule_b52m': ['13,955',\n",
       "  '3,291',\n",
       "  '230',\n",
       "  '803',\n",
       "  '460',\n",
       "  '178,354',\n",
       "  '34,943',\n",
       "  '25,687',\n",
       "  '25,687',\n",
       "  '230',\n",
       "  '559',\n",
       "  '3,291',\n",
       "  '3,291',\n",
       "  '18',\n",
       "  '2,065',\n",
       "  '154']}"
      ]
     },
     "execution_count": 9,
     "metadata": {},
     "output_type": "execute_result"
    }
   ],
   "source": [
    "scraper.get_result_similar(url,grouped=True)"
   ]
  },
  {
   "cell_type": "code",
   "execution_count": 10,
   "metadata": {},
   "outputs": [],
   "source": [
    "scraper.set_rule_aliases({'rule_aucm':'price','rule_ysca':'title'})\n",
    "scraper.keep_rules(['rule_aucm','rule_ysca'])\n",
    "scraper.save('amazon-search')"
   ]
  },
  {
   "cell_type": "code",
   "execution_count": 11,
   "metadata": {},
   "outputs": [
    {
     "data": {
      "text/plain": [
       "{'price': ['₹75,900',\n",
       "  '₹84,900',\n",
       "  '₹59,900',\n",
       "  '₹54,900',\n",
       "  '₹58,999',\n",
       "  '₹69,900',\n",
       "  '₹59,900',\n",
       "  '₹58,999',\n",
       "  '₹69,900',\n",
       "  '₹1,29,799',\n",
       "  '₹1,29,900',\n",
       "  '₹59,900',\n",
       "  '₹70,900',\n",
       "  '₹79,900',\n",
       "  '₹70,900',\n",
       "  '₹79,900',\n",
       "  '₹59,900',\n",
       "  '₹1,35,900',\n",
       "  '₹1,39,900',\n",
       "  '₹64,999',\n",
       "  '₹74,900',\n",
       "  '₹59,900',\n",
       "  '₹71,900',\n",
       "  '₹74,900',\n",
       "  '₹75,900',\n",
       "  '₹84,900'],\n",
       " 'title': ['New Apple iPhone 12 (128GB) - Blue',\n",
       "  'New Apple iPhone 11 (128GB) - Black',\n",
       "  'New Apple iPhone 11 (64GB) - Green',\n",
       "  'New Apple iPhone 12 Mini (64GB) - Black',\n",
       "  'New Apple iPhone 11 (128GB) - White',\n",
       "  'New Apple iPhone 12 Mini (64GB) - Blue',\n",
       "  'New Apple iPhone 12 Pro Max (128GB) - Pacific Blue',\n",
       "  'New Apple iPhone 11 (128GB) - Purple',\n",
       "  'New Apple iPhone 12 (64GB) - Blue',\n",
       "  'New Apple iPhone 12 (64GB) - Black',\n",
       "  'New Apple iPhone 11 (128GB) - Green',\n",
       "  'New Apple iPhone 12 Pro Max (256GB) - Graphite',\n",
       "  'New Apple iPhone 12 Mini (128GB) - Blue',\n",
       "  'New Apple iPhone 11 (128GB) - (Product) RED',\n",
       "  'New Apple iPhone 12 Mini (128GB) - Green',\n",
       "  'New Apple iPhone 12 (128GB) - Black']}"
      ]
     },
     "execution_count": 11,
     "metadata": {},
     "output_type": "execute_result"
    }
   ],
   "source": [
    "scraper.get_result_similar('https://www.amazon.in/iphone/s?k=iphone', group_by_alias = True)"
   ]
  },
  {
   "cell_type": "code",
   "execution_count": null,
   "metadata": {},
   "outputs": [],
   "source": []
  }
 ],
 "metadata": {
  "kernelspec": {
   "display_name": "Python 3",
   "language": "python",
   "name": "python3"
  },
  "language_info": {
   "codemirror_mode": {
    "name": "ipython",
    "version": 3
   },
   "file_extension": ".py",
   "mimetype": "text/x-python",
   "name": "python",
   "nbconvert_exporter": "python",
   "pygments_lexer": "ipython3",
   "version": "3.7.3"
  }
 },
 "nbformat": 4,
 "nbformat_minor": 4
}
